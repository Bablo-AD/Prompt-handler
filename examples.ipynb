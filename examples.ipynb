{
 "cells": [
  {
   "cell_type": "code",
   "execution_count": 5,
   "metadata": {},
   "outputs": [
    {
     "data": {
      "text/plain": [
       "{'role': 'system',\n",
       " 'content': 'You are a young woman and take care of the user like your boyfriend have a personality'}"
      ]
     },
     "execution_count": 5,
     "metadata": {},
     "output_type": "execute_result"
    }
   ],
   "source": [
    "from prompthandler import PromptHandler\n",
    "from dotenv import load_dotenv\n",
    "import os\n",
    "\n",
    "load_dotenv()\n",
    "key = os.environ.get('OPENAI_API_KEY')\n",
    "\n",
    "model = PromptHandler(api_key=key) \n",
    "model.add_system(\"You are a young woman and take care of the user like your boyfriend have a personality\",to_head=True)"
   ]
  },
  {
   "cell_type": "code",
   "execution_count": 11,
   "metadata": {},
   "outputs": [
    {
     "data": {
      "text/plain": [
       "\"Hey there! How's your day going? Is there anything I can do to make it better?\""
      ]
     },
     "execution_count": 11,
     "metadata": {},
     "output_type": "execute_result"
    }
   ],
   "source": [
    "model.get_completion(\"Hi!\") # It automatically calibrates the context and takes care of the tokens"
   ]
  },
  {
   "cell_type": "code",
   "execution_count": null,
   "metadata": {},
   "outputs": [],
   "source": [
    "# It contains three parts\n",
    "model.head # It won't rotate or won't get cutted of during calibration it is where you should put persona and condition\n",
    "model.body # It will rotate and get cutted of during calibration it is where the normal conversation goes\n",
    "# So you can append stuff to model.head using\n",
    "model.add_assistant('text', to_head=True)\n",
    "model.add_system('text', to_head=True)\n",
    "model.add_user('text', to_head=True)\n",
    "# or\n",
    "model.head = [{\"role\":\"system\",\"content\":\"text\"}]\n",
    "# It would automatically get updated when you call get_completion don't worry :)"
   ]
  },
  {
   "cell_type": "code",
   "execution_count": null,
   "metadata": {},
   "outputs": [],
   "source": [
    "# To add to body \n",
    "model.add_assistant(\"text to be added\")\n",
    "model.add_user(\"text to be added\")\n",
    "model.add_system(\"text to be added\")"
   ]
  },
  {
   "cell_type": "code",
   "execution_count": 12,
   "metadata": {},
   "outputs": [],
   "source": [
    "model.MAX_TOKEN = 300 # you can set the max token of the context window defalut it is 4096"
   ]
  }
 ],
 "metadata": {
  "kernelspec": {
   "display_name": "en",
   "language": "python",
   "name": "python3"
  },
  "language_info": {
   "codemirror_mode": {
    "name": "ipython",
    "version": 3
   },
   "file_extension": ".py",
   "mimetype": "text/x-python",
   "name": "python",
   "nbconvert_exporter": "python",
   "pygments_lexer": "ipython3",
   "version": "3.11.4"
  },
  "orig_nbformat": 4
 },
 "nbformat": 4,
 "nbformat_minor": 2
}
